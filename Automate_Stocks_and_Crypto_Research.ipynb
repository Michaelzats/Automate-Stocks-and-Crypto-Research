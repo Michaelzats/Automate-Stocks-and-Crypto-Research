{
  "cells": [
    {
      "cell_type": "markdown",
      "metadata": {
        "id": "view-in-github",
        "colab_type": "text"
      },
      "source": [
        "<a href=\"https://colab.research.google.com/github/Michaelzats/Automate-Stocks-and-Crypto-Research/blob/main/Automate_Stocks_and_Crypto_Research.ipynb\" target=\"_parent\"><img src=\"https://colab.research.google.com/assets/colab-badge.svg\" alt=\"Open In Colab\"/></a>"
      ]
    },
    {
      "cell_type": "markdown",
      "source": [
        "#Automate Stocks and Crypto Research"
      ],
      "metadata": {
        "id": "PcNK7-ll0SrV"
      }
    },
    {
      "cell_type": "markdown",
      "source": [
        "The following tool helps to analyse the performance and the current opinion of the stock/cryptocurrency through scrapping on the internet via Maschine Learning BeautifulSoup. After collecting the articles, the summarization of the stocks is provided and the probability of positive or negative articles is shown. Therefore, the model can help to find well-forecasted stocks/crypto to invest in."
      ],
      "metadata": {
        "id": "j5xVVr3KzeTy"
      }
    },
    {
      "cell_type": "markdown",
      "metadata": {
        "id": "FswUpfToVl-Q"
      },
      "source": [
        "# 1. Install and Import Baseline Dependencies"
      ]
    },
    {
      "cell_type": "code",
      "execution_count": 107,
      "metadata": {
        "collapsed": true,
        "colab": {
          "base_uri": "https://localhost:8080/"
        },
        "id": "0jiedy50Vl-S",
        "outputId": "df6b02b2-0254-4027-b4a9-bfdb4beb9700"
      },
      "outputs": [
        {
          "output_type": "stream",
          "name": "stdout",
          "text": [
            "Looking in indexes: https://pypi.org/simple, https://us-python.pkg.dev/colab-wheels/public/simple/\n",
            "Requirement already satisfied: transformers in /usr/local/lib/python3.7/dist-packages (4.19.2)\n",
            "Requirement already satisfied: numpy>=1.17 in /usr/local/lib/python3.7/dist-packages (from transformers) (1.21.6)\n",
            "Requirement already satisfied: tqdm>=4.27 in /usr/local/lib/python3.7/dist-packages (from transformers) (4.64.0)\n",
            "Requirement already satisfied: tokenizers!=0.11.3,<0.13,>=0.11.1 in /usr/local/lib/python3.7/dist-packages (from transformers) (0.12.1)\n",
            "Requirement already satisfied: requests in /usr/local/lib/python3.7/dist-packages (from transformers) (2.23.0)\n",
            "Requirement already satisfied: regex!=2019.12.17 in /usr/local/lib/python3.7/dist-packages (from transformers) (2019.12.20)\n",
            "Requirement already satisfied: pyyaml>=5.1 in /usr/local/lib/python3.7/dist-packages (from transformers) (6.0)\n",
            "Requirement already satisfied: filelock in /usr/local/lib/python3.7/dist-packages (from transformers) (3.7.0)\n",
            "Requirement already satisfied: packaging>=20.0 in /usr/local/lib/python3.7/dist-packages (from transformers) (21.3)\n",
            "Requirement already satisfied: huggingface-hub<1.0,>=0.1.0 in /usr/local/lib/python3.7/dist-packages (from transformers) (0.7.0)\n",
            "Requirement already satisfied: importlib-metadata in /usr/local/lib/python3.7/dist-packages (from transformers) (4.11.4)\n",
            "Requirement already satisfied: typing-extensions>=3.7.4.3 in /usr/local/lib/python3.7/dist-packages (from huggingface-hub<1.0,>=0.1.0->transformers) (4.2.0)\n",
            "Requirement already satisfied: pyparsing!=3.0.5,>=2.0.2 in /usr/local/lib/python3.7/dist-packages (from packaging>=20.0->transformers) (3.0.9)\n",
            "Requirement already satisfied: zipp>=0.5 in /usr/local/lib/python3.7/dist-packages (from importlib-metadata->transformers) (3.8.0)\n",
            "Requirement already satisfied: certifi>=2017.4.17 in /usr/local/lib/python3.7/dist-packages (from requests->transformers) (2022.5.18.1)\n",
            "Requirement already satisfied: urllib3!=1.25.0,!=1.25.1,<1.26,>=1.21.1 in /usr/local/lib/python3.7/dist-packages (from requests->transformers) (1.24.3)\n",
            "Requirement already satisfied: idna<3,>=2.5 in /usr/local/lib/python3.7/dist-packages (from requests->transformers) (2.10)\n",
            "Requirement already satisfied: chardet<4,>=3.0.2 in /usr/local/lib/python3.7/dist-packages (from requests->transformers) (3.0.4)\n",
            "Looking in indexes: https://pypi.org/simple, https://us-python.pkg.dev/colab-wheels/public/simple/\n",
            "Requirement already satisfied: sentencepiece in /usr/local/lib/python3.7/dist-packages (0.1.96)\n"
          ]
        }
      ],
      "source": [
        "# !pip install transformers\n",
        "# !pip install sentencepiece\n"
      ]
    },
    {
      "cell_type": "code",
      "execution_count": 108,
      "metadata": {
        "id": "kfxmmso3Vl-T"
      },
      "outputs": [],
      "source": [
        "from transformers import PegasusTokenizer, PegasusForConditionalGeneration\n",
        "from bs4 import BeautifulSoup\n",
        "import requests"
      ]
    },
    {
      "cell_type": "markdown",
      "metadata": {
        "id": "7dIqqe7eVl-T"
      },
      "source": [
        "# 2. Setup Summarization Model"
      ]
    },
    {
      "cell_type": "code",
      "execution_count": 109,
      "metadata": {
        "id": "NIRPaa2jVl-T"
      },
      "outputs": [],
      "source": [
        "model_name = \"human-centered-summarization/financial-summarization-pegasus\"\n",
        "tokenizer = PegasusTokenizer.from_pretrained(model_name)\n",
        "model = PegasusForConditionalGeneration.from_pretrained(model_name)"
      ]
    },
    {
      "cell_type": "markdown",
      "metadata": {
        "id": "cA9cEHSHVl-T"
      },
      "source": [
        "# 3. Summarize a Single Article"
      ]
    },
    {
      "cell_type": "code",
      "execution_count": 110,
      "metadata": {
        "id": "1Phxx-TcVl-U"
      },
      "outputs": [],
      "source": [
        "url = \"https://au.finance.yahoo.com/news/china-restricting-tesla-use-uncovers-a-significant-challenge-for-elon-musk-expert-161921664.html\"\n",
        "r = requests.get(url)\n",
        "soup = BeautifulSoup(r.text, 'html.parser')\n",
        "paragraphs = soup.find_all('p')"
      ]
    },
    {
      "cell_type": "code",
      "execution_count": 111,
      "metadata": {
        "id": "ITltxjGLVl-U",
        "outputId": "7e0ef826-d4ee-4bc0-e241-9a66ba87d33e",
        "colab": {
          "base_uri": "https://localhost:8080/",
          "height": 35
        }
      },
      "outputs": [
        {
          "output_type": "execute_result",
          "data": {
            "text/plain": [
              "'Thank you for your patience.'"
            ],
            "application/vnd.google.colaboratory.intrinsic+json": {
              "type": "string"
            }
          },
          "metadata": {},
          "execution_count": 111
        }
      ],
      "source": [
        "paragraphs[0].text"
      ]
    },
    {
      "cell_type": "code",
      "execution_count": 112,
      "metadata": {
        "id": "2ZFbmifaVl-U"
      },
      "outputs": [],
      "source": [
        "text = [paragraph.text for paragraph in paragraphs]\n",
        "words = ' '.join(text).split(' ')[:400]\n",
        "ARTICLE = ' '.join(words)"
      ]
    },
    {
      "cell_type": "code",
      "execution_count": 113,
      "metadata": {
        "id": "e3QaAG7YVl-V",
        "outputId": "30092110-b436-40d8-e7b0-4bd4e0ec7b20",
        "colab": {
          "base_uri": "https://localhost:8080/",
          "height": 35
        }
      },
      "outputs": [
        {
          "output_type": "execute_result",
          "data": {
            "text/plain": [
              "'Thank you for your patience. Our engineers are working quickly to resolve the issue.'"
            ],
            "application/vnd.google.colaboratory.intrinsic+json": {
              "type": "string"
            }
          },
          "metadata": {},
          "execution_count": 113
        }
      ],
      "source": [
        "ARTICLE"
      ]
    },
    {
      "cell_type": "code",
      "execution_count": 114,
      "metadata": {
        "id": "cWHCIPLBVl-V"
      },
      "outputs": [],
      "source": [
        "input_ids = tokenizer.encode(ARTICLE, return_tensors='pt')\n",
        "output = model.generate(input_ids, max_length=55, num_beams=5, early_stopping=True)\n",
        "summary = tokenizer.decode(output[0], skip_special_tokens=True)"
      ]
    },
    {
      "cell_type": "code",
      "execution_count": 115,
      "metadata": {
        "id": "5lEmWWHKVl-V",
        "outputId": "e758748e-e574-41d7-ea9e-fa631983e362",
        "colab": {
          "base_uri": "https://localhost:8080/",
          "height": 35
        }
      },
      "outputs": [
        {
          "output_type": "execute_result",
          "data": {
            "text/plain": [
              "'We are aware of the issue and are working to resolve it.'"
            ],
            "application/vnd.google.colaboratory.intrinsic+json": {
              "type": "string"
            }
          },
          "metadata": {},
          "execution_count": 115
        }
      ],
      "source": [
        "summary"
      ]
    },
    {
      "cell_type": "markdown",
      "metadata": {
        "id": "oYdF3ToDVl-V"
      },
      "source": [
        "# 4. Building a News and Sentiment Pipeline"
      ]
    },
    {
      "cell_type": "code",
      "execution_count": 116,
      "metadata": {
        "id": "bc2HH0NEVl-W"
      },
      "outputs": [],
      "source": [
        "monitored_tickers = ['MSFT','APPL','SPCE']"
      ]
    },
    {
      "cell_type": "markdown",
      "metadata": {
        "id": "-wfdJ3fEVl-W"
      },
      "source": [
        "## 4.1. Search for Stock News using Google and Yahoo Finance"
      ]
    },
    {
      "cell_type": "code",
      "execution_count": 117,
      "metadata": {
        "id": "k5BCrb56Vl-W"
      },
      "outputs": [],
      "source": [
        "def search_for_stock_news_urls(ticker):\n",
        "    search_url = \"https://www.google.com/search?q=yahoo+finance+{}&tbm=nws\".format(ticker)\n",
        "    r = requests.get(search_url)\n",
        "    soup = BeautifulSoup(r.text, 'html.parser')\n",
        "    atags = soup.find_all('a')\n",
        "    hrefs = [link['href'] for link in atags]\n",
        "    return hrefs "
      ]
    },
    {
      "cell_type": "code",
      "execution_count": 118,
      "metadata": {
        "collapsed": true,
        "id": "A4h30bfNVl-W",
        "outputId": "41c838c6-bf6a-4ce7-aa4b-0d87149bf945",
        "colab": {
          "base_uri": "https://localhost:8080/"
        }
      },
      "outputs": [
        {
          "output_type": "execute_result",
          "data": {
            "text/plain": [
              "{'MSFT': ['/?sa=X&ved=0ahUKEwjk67aSuY_4AhVcIqYKHQYZC7wQOwgC',\n",
              "  '/?output=search&ie=UTF-8&tbm=nws&sa=X&ved=0ahUKEwjk67aSuY_4AhVcIqYKHQYZC7wQPAgE',\n",
              "  '/search?q=yahoo+finance+MSFT&tbm=nws&ie=UTF-8&gbv=1&sei=_weZYqTwK9zEmAWGsqzgCw',\n",
              "  '/search?q=yahoo+finance+MSFT&ie=UTF-8&source=lnms&sa=X&ved=0ahUKEwjk67aSuY_4AhVcIqYKHQYZC7wQ_AUIBygA',\n",
              "  '/search?q=yahoo+finance+MSFT&ie=UTF-8&tbm=shop&source=lnms&sa=X&ved=0ahUKEwjk67aSuY_4AhVcIqYKHQYZC7wQ_AUICSgC',\n",
              "  '/search?q=yahoo+finance+MSFT&ie=UTF-8&tbm=isch&source=lnms&sa=X&ved=0ahUKEwjk67aSuY_4AhVcIqYKHQYZC7wQ_AUICigD',\n",
              "  'https://maps.google.com/maps?q=yahoo+finance+MSFT&um=1&ie=UTF-8&sa=X&ved=0ahUKEwjk67aSuY_4AhVcIqYKHQYZC7wQ_AUICygE',\n",
              "  '/search?q=yahoo+finance+MSFT&ie=UTF-8&tbm=vid&source=lnms&sa=X&ved=0ahUKEwjk67aSuY_4AhVcIqYKHQYZC7wQ_AUIDCgF',\n",
              "  '/search?q=yahoo+finance+MSFT&ie=UTF-8&tbm=bks&source=lnms&sa=X&ved=0ahUKEwjk67aSuY_4AhVcIqYKHQYZC7wQ_AUIDSgG',\n",
              "  '/advanced_search',\n",
              "  '/search?q=yahoo+finance+MSFT&ie=UTF-8&tbm=nws&source=lnt&tbs=lr:lang_1zh-CN%7Clang_1zh-TW&lr=lang_zh-CN%7Clang_zh-TW&sa=X&ved=0ahUKEwjk67aSuY_4AhVcIqYKHQYZC7wQpwUIDw',\n",
              "  '/search?q=yahoo+finance+MSFT&ie=UTF-8&tbm=nws&source=lnt&tbs=lr:lang_1zh-TW&lr=lang_zh-TW&sa=X&ved=0ahUKEwjk67aSuY_4AhVcIqYKHQYZC7wQpwUIEA',\n",
              "  '/search?q=yahoo+finance+MSFT&ie=UTF-8&tbm=nws&source=lnt&tbs=qdr:h&sa=X&ved=0ahUKEwjk67aSuY_4AhVcIqYKHQYZC7wQpwUIEg',\n",
              "  '/search?q=yahoo+finance+MSFT&ie=UTF-8&tbm=nws&source=lnt&tbs=qdr:d&sa=X&ved=0ahUKEwjk67aSuY_4AhVcIqYKHQYZC7wQpwUIEw',\n",
              "  '/search?q=yahoo+finance+MSFT&ie=UTF-8&tbm=nws&source=lnt&tbs=qdr:w&sa=X&ved=0ahUKEwjk67aSuY_4AhVcIqYKHQYZC7wQpwUIFA',\n",
              "  '/search?q=yahoo+finance+MSFT&ie=UTF-8&tbm=nws&source=lnt&tbs=qdr:m&sa=X&ved=0ahUKEwjk67aSuY_4AhVcIqYKHQYZC7wQpwUIFQ',\n",
              "  '/search?q=yahoo+finance+MSFT&ie=UTF-8&tbm=nws&source=lnt&tbs=qdr:y&sa=X&ved=0ahUKEwjk67aSuY_4AhVcIqYKHQYZC7wQpwUIFg',\n",
              "  '/search?q=yahoo+finance+MSFT&ie=UTF-8&tbm=nws&source=lnt&tbs=ar:1&sa=X&ved=0ahUKEwjk67aSuY_4AhVcIqYKHQYZC7wQpwUIFw',\n",
              "  '/search?q=yahoo+finance+MSFT&ie=UTF-8&tbm=nws&source=lnt&tbs=sbd:1&sa=X&ved=0ahUKEwjk67aSuY_4AhVcIqYKHQYZC7wQpwUIGQ',\n",
              "  '/url?q=https://finance.yahoo.com/news/microsoft-lowers-revenue-profit-forecasts-131435503.html&sa=U&ved=2ahUKEwjk67aSuY_4AhVcIqYKHQYZC7wQxfQBegQIAhAC&usg=AOvVaw0BO1rxxgtJtP2wQwsk_ZSA',\n",
              "  '/url?q=https://hk.finance.yahoo.com/news/%25E7%25BE%258E%25E8%2582%25A1%25E5%2586%258D%25E6%259A%25B4%25E6%258C%25AB-%25E5%25BE%25AE%25E8%25BB%259F%25E8%2582%25A1%25E7%25A5%25A8%25E6%2598%25AF%25E5%25BC%25B1%25E5%25B8%2582%25E7%259A%2584%25E5%25A5%25BD%25E9%2581%25B8%25E6%2593%2587%25EF%25BC%259F-153645326.html&sa=U&ved=2ahUKEwjk67aSuY_4AhVcIqYKHQYZC7wQxfQBegQICBAC&usg=AOvVaw1gBBj9E6wYYa8lW7qGlkNB',\n",
              "  '/url?q=https://ca.finance.yahoo.com/news/microsoft-lowers-revenue-profit-forecasts-131435503.html&sa=U&ved=2ahUKEwjk67aSuY_4AhVcIqYKHQYZC7wQxfQBegQIBxAC&usg=AOvVaw2hsf7wv8mpd0eJgvGTXcah',\n",
              "  '/url?q=https://finance.yahoo.com/news/heres-why-analyst-remained-bullish-182226629.html&sa=U&ved=2ahUKEwjk67aSuY_4AhVcIqYKHQYZC7wQxfQBegQICRAC&usg=AOvVaw1_O2Kt_YCI1R4iewShQu86',\n",
              "  '/url?q=https://finance.yahoo.com/news/duck-creek-technologies-joins-microsoft-123000047.html&sa=U&ved=2ahUKEwjk67aSuY_4AhVcIqYKHQYZC7wQxfQBegQIABAC&usg=AOvVaw0UyYx7QtfAqjfccaueSih-',\n",
              "  '/url?q=https://finance.yahoo.com/news/microsofts-surface-laptop-go-2-offers-more-speed-and-storage-capacity-130028787.html&sa=U&ved=2ahUKEwjk67aSuY_4AhVcIqYKHQYZC7wQxfQBegQIBBAC&usg=AOvVaw0xoQ4myL3NRezmvPKc-0GP',\n",
              "  '/url?q=https://finance.yahoo.com/news/accenture-microsoft-avanade-expand-partnership-115900867.html&sa=U&ved=2ahUKEwjk67aSuY_4AhVcIqYKHQYZC7wQxfQBegQIARAC&usg=AOvVaw1iMQPDLAbJ0e2bfcDynF4l',\n",
              "  '/url?q=https://ca.finance.yahoo.com/news/microsoft-launches-surface-laptop-go-2-599-130049287.html&sa=U&ved=2ahUKEwjk67aSuY_4AhVcIqYKHQYZC7wQxfQBegQIAxAC&usg=AOvVaw0CUQ-ZInitxc90i2dhLvIo',\n",
              "  '/url?q=https://finance.yahoo.com/news/china-backed-hackers-exploiting-unpatched-111004168.html&sa=U&ved=2ahUKEwjk67aSuY_4AhVcIqYKHQYZC7wQxfQBegQIBRAC&usg=AOvVaw2aioYGs1TGqSEpJc6xmeY5',\n",
              "  '/url?q=https://finance.yahoo.com/news/microsoft-slow-hiring-windows-office-153055705.html&sa=U&ved=2ahUKEwjk67aSuY_4AhVcIqYKHQYZC7wQxfQBegQIBhAC&usg=AOvVaw3NXGnZDS_O0aQpWSNnQxLe',\n",
              "  '/search?q=yahoo+finance+MSFT&ie=UTF-8&tbm=nws&ei=_weZYqTwK9zEmAWGsqzgCw&start=10&sa=N',\n",
              "  '/url?q=https://support.google.com/websearch%3Fp%3Dws_settings_location%26hl%3Dzh-TW&sa=U&ved=0ahUKEwjk67aSuY_4AhVcIqYKHQYZC7wQty4IWA&usg=AOvVaw3rFVZrCYkchRm-ut0WGhju',\n",
              "  '/url?q=https://accounts.google.com/ServiceLogin%3Fcontinue%3Dhttps://www.google.com/search%253Fq%253Dyahoo%252Bfinance%252BMSFT%2526tbm%253Dnws%26hl%3Dzh-TW&sa=U&ved=0ahUKEwjk67aSuY_4AhVcIqYKHQYZC7wQxs8CCFk&usg=AOvVaw0t-7cD-3o-70UUrcyXpuJs',\n",
              "  'https://www.google.com/preferences?hl=zh-TW&fg=1&sa=X&ved=0ahUKEwjk67aSuY_4AhVcIqYKHQYZC7wQ5fUCCFo',\n",
              "  'https://policies.google.com/privacy?hl=zh-TW&fg=1',\n",
              "  'https://policies.google.com/terms?hl=zh-TW&fg=1']}"
            ]
          },
          "metadata": {},
          "execution_count": 118
        }
      ],
      "source": [
        "raw_urls = {ticker:search_for_stock_news_urls(ticker) for ticker in monitored_tickers}\n",
        "raw_urls"
      ]
    },
    {
      "cell_type": "code",
      "execution_count": 119,
      "metadata": {
        "collapsed": true,
        "id": "OdXDBkOtVl-W",
        "outputId": "fea72141-864f-4db1-9151-32dbce6ff2b6",
        "colab": {
          "base_uri": "https://localhost:8080/"
        }
      },
      "outputs": [
        {
          "output_type": "execute_result",
          "data": {
            "text/plain": [
              "['/?sa=X&ved=0ahUKEwjk67aSuY_4AhVcIqYKHQYZC7wQOwgC',\n",
              " '/?output=search&ie=UTF-8&tbm=nws&sa=X&ved=0ahUKEwjk67aSuY_4AhVcIqYKHQYZC7wQPAgE',\n",
              " '/search?q=yahoo+finance+MSFT&tbm=nws&ie=UTF-8&gbv=1&sei=_weZYqTwK9zEmAWGsqzgCw',\n",
              " '/search?q=yahoo+finance+MSFT&ie=UTF-8&source=lnms&sa=X&ved=0ahUKEwjk67aSuY_4AhVcIqYKHQYZC7wQ_AUIBygA',\n",
              " '/search?q=yahoo+finance+MSFT&ie=UTF-8&tbm=shop&source=lnms&sa=X&ved=0ahUKEwjk67aSuY_4AhVcIqYKHQYZC7wQ_AUICSgC',\n",
              " '/search?q=yahoo+finance+MSFT&ie=UTF-8&tbm=isch&source=lnms&sa=X&ved=0ahUKEwjk67aSuY_4AhVcIqYKHQYZC7wQ_AUICigD',\n",
              " 'https://maps.google.com/maps?q=yahoo+finance+MSFT&um=1&ie=UTF-8&sa=X&ved=0ahUKEwjk67aSuY_4AhVcIqYKHQYZC7wQ_AUICygE',\n",
              " '/search?q=yahoo+finance+MSFT&ie=UTF-8&tbm=vid&source=lnms&sa=X&ved=0ahUKEwjk67aSuY_4AhVcIqYKHQYZC7wQ_AUIDCgF',\n",
              " '/search?q=yahoo+finance+MSFT&ie=UTF-8&tbm=bks&source=lnms&sa=X&ved=0ahUKEwjk67aSuY_4AhVcIqYKHQYZC7wQ_AUIDSgG',\n",
              " '/advanced_search',\n",
              " '/search?q=yahoo+finance+MSFT&ie=UTF-8&tbm=nws&source=lnt&tbs=lr:lang_1zh-CN%7Clang_1zh-TW&lr=lang_zh-CN%7Clang_zh-TW&sa=X&ved=0ahUKEwjk67aSuY_4AhVcIqYKHQYZC7wQpwUIDw',\n",
              " '/search?q=yahoo+finance+MSFT&ie=UTF-8&tbm=nws&source=lnt&tbs=lr:lang_1zh-TW&lr=lang_zh-TW&sa=X&ved=0ahUKEwjk67aSuY_4AhVcIqYKHQYZC7wQpwUIEA',\n",
              " '/search?q=yahoo+finance+MSFT&ie=UTF-8&tbm=nws&source=lnt&tbs=qdr:h&sa=X&ved=0ahUKEwjk67aSuY_4AhVcIqYKHQYZC7wQpwUIEg',\n",
              " '/search?q=yahoo+finance+MSFT&ie=UTF-8&tbm=nws&source=lnt&tbs=qdr:d&sa=X&ved=0ahUKEwjk67aSuY_4AhVcIqYKHQYZC7wQpwUIEw',\n",
              " '/search?q=yahoo+finance+MSFT&ie=UTF-8&tbm=nws&source=lnt&tbs=qdr:w&sa=X&ved=0ahUKEwjk67aSuY_4AhVcIqYKHQYZC7wQpwUIFA',\n",
              " '/search?q=yahoo+finance+MSFT&ie=UTF-8&tbm=nws&source=lnt&tbs=qdr:m&sa=X&ved=0ahUKEwjk67aSuY_4AhVcIqYKHQYZC7wQpwUIFQ',\n",
              " '/search?q=yahoo+finance+MSFT&ie=UTF-8&tbm=nws&source=lnt&tbs=qdr:y&sa=X&ved=0ahUKEwjk67aSuY_4AhVcIqYKHQYZC7wQpwUIFg',\n",
              " '/search?q=yahoo+finance+MSFT&ie=UTF-8&tbm=nws&source=lnt&tbs=ar:1&sa=X&ved=0ahUKEwjk67aSuY_4AhVcIqYKHQYZC7wQpwUIFw',\n",
              " '/search?q=yahoo+finance+MSFT&ie=UTF-8&tbm=nws&source=lnt&tbs=sbd:1&sa=X&ved=0ahUKEwjk67aSuY_4AhVcIqYKHQYZC7wQpwUIGQ',\n",
              " '/url?q=https://finance.yahoo.com/news/microsoft-lowers-revenue-profit-forecasts-131435503.html&sa=U&ved=2ahUKEwjk67aSuY_4AhVcIqYKHQYZC7wQxfQBegQIAhAC&usg=AOvVaw0BO1rxxgtJtP2wQwsk_ZSA',\n",
              " '/url?q=https://hk.finance.yahoo.com/news/%25E7%25BE%258E%25E8%2582%25A1%25E5%2586%258D%25E6%259A%25B4%25E6%258C%25AB-%25E5%25BE%25AE%25E8%25BB%259F%25E8%2582%25A1%25E7%25A5%25A8%25E6%2598%25AF%25E5%25BC%25B1%25E5%25B8%2582%25E7%259A%2584%25E5%25A5%25BD%25E9%2581%25B8%25E6%2593%2587%25EF%25BC%259F-153645326.html&sa=U&ved=2ahUKEwjk67aSuY_4AhVcIqYKHQYZC7wQxfQBegQICBAC&usg=AOvVaw1gBBj9E6wYYa8lW7qGlkNB',\n",
              " '/url?q=https://ca.finance.yahoo.com/news/microsoft-lowers-revenue-profit-forecasts-131435503.html&sa=U&ved=2ahUKEwjk67aSuY_4AhVcIqYKHQYZC7wQxfQBegQIBxAC&usg=AOvVaw2hsf7wv8mpd0eJgvGTXcah',\n",
              " '/url?q=https://finance.yahoo.com/news/heres-why-analyst-remained-bullish-182226629.html&sa=U&ved=2ahUKEwjk67aSuY_4AhVcIqYKHQYZC7wQxfQBegQICRAC&usg=AOvVaw1_O2Kt_YCI1R4iewShQu86',\n",
              " '/url?q=https://finance.yahoo.com/news/duck-creek-technologies-joins-microsoft-123000047.html&sa=U&ved=2ahUKEwjk67aSuY_4AhVcIqYKHQYZC7wQxfQBegQIABAC&usg=AOvVaw0UyYx7QtfAqjfccaueSih-',\n",
              " '/url?q=https://finance.yahoo.com/news/microsofts-surface-laptop-go-2-offers-more-speed-and-storage-capacity-130028787.html&sa=U&ved=2ahUKEwjk67aSuY_4AhVcIqYKHQYZC7wQxfQBegQIBBAC&usg=AOvVaw0xoQ4myL3NRezmvPKc-0GP',\n",
              " '/url?q=https://finance.yahoo.com/news/accenture-microsoft-avanade-expand-partnership-115900867.html&sa=U&ved=2ahUKEwjk67aSuY_4AhVcIqYKHQYZC7wQxfQBegQIARAC&usg=AOvVaw1iMQPDLAbJ0e2bfcDynF4l',\n",
              " '/url?q=https://ca.finance.yahoo.com/news/microsoft-launches-surface-laptop-go-2-599-130049287.html&sa=U&ved=2ahUKEwjk67aSuY_4AhVcIqYKHQYZC7wQxfQBegQIAxAC&usg=AOvVaw0CUQ-ZInitxc90i2dhLvIo',\n",
              " '/url?q=https://finance.yahoo.com/news/china-backed-hackers-exploiting-unpatched-111004168.html&sa=U&ved=2ahUKEwjk67aSuY_4AhVcIqYKHQYZC7wQxfQBegQIBRAC&usg=AOvVaw2aioYGs1TGqSEpJc6xmeY5',\n",
              " '/url?q=https://finance.yahoo.com/news/microsoft-slow-hiring-windows-office-153055705.html&sa=U&ved=2ahUKEwjk67aSuY_4AhVcIqYKHQYZC7wQxfQBegQIBhAC&usg=AOvVaw3NXGnZDS_O0aQpWSNnQxLe',\n",
              " '/search?q=yahoo+finance+MSFT&ie=UTF-8&tbm=nws&ei=_weZYqTwK9zEmAWGsqzgCw&start=10&sa=N',\n",
              " '/url?q=https://support.google.com/websearch%3Fp%3Dws_settings_location%26hl%3Dzh-TW&sa=U&ved=0ahUKEwjk67aSuY_4AhVcIqYKHQYZC7wQty4IWA&usg=AOvVaw3rFVZrCYkchRm-ut0WGhju',\n",
              " '/url?q=https://accounts.google.com/ServiceLogin%3Fcontinue%3Dhttps://www.google.com/search%253Fq%253Dyahoo%252Bfinance%252BMSFT%2526tbm%253Dnws%26hl%3Dzh-TW&sa=U&ved=0ahUKEwjk67aSuY_4AhVcIqYKHQYZC7wQxs8CCFk&usg=AOvVaw0t-7cD-3o-70UUrcyXpuJs',\n",
              " 'https://www.google.com/preferences?hl=zh-TW&fg=1&sa=X&ved=0ahUKEwjk67aSuY_4AhVcIqYKHQYZC7wQ5fUCCFo',\n",
              " 'https://policies.google.com/privacy?hl=zh-TW&fg=1',\n",
              " 'https://policies.google.com/terms?hl=zh-TW&fg=1']"
            ]
          },
          "metadata": {},
          "execution_count": 119
        }
      ],
      "source": [
        "raw_urls['MSFT']"
      ]
    },
    {
      "cell_type": "markdown",
      "metadata": {
        "id": "2YX5BVo-Vl-W"
      },
      "source": [
        "## 4.2. Strip out unwanted URLs"
      ]
    },
    {
      "cell_type": "code",
      "execution_count": 120,
      "metadata": {
        "id": "pLsxu7gFVl-W"
      },
      "outputs": [],
      "source": [
        "import re\n"
      ]
    },
    {
      "cell_type": "code",
      "execution_count": 121,
      "metadata": {
        "id": "Rs-tVbuMVl-X"
      },
      "outputs": [],
      "source": [
        "exclude_list = ['maps', 'policies', 'preferences', 'accounts', 'support']"
      ]
    },
    {
      "cell_type": "code",
      "execution_count": 122,
      "metadata": {
        "id": "2g8DEv4hVl-X"
      },
      "outputs": [],
      "source": [
        "def strip_unwanted_urls(urls, exclude_list):\n",
        "    val = []\n",
        "    for url in urls: \n",
        "        if 'https://' in url and not any(exclude_word in url for exclude_word in exclude_list):\n",
        "            res = re.findall(r'(https?://\\S+)', url)[0].split('&')[0]\n",
        "            val.append(res)\n",
        "    return list(set(val))"
      ]
    },
    {
      "cell_type": "code",
      "execution_count": 123,
      "metadata": {
        "collapsed": true,
        "id": "LakP8nAxVl-X",
        "outputId": "8521aa6a-9519-4654-b27e-dae6c9680139",
        "colab": {
          "base_uri": "https://localhost:8080/"
        }
      },
      "outputs": [
        {
          "output_type": "execute_result",
          "data": {
            "text/plain": [
              "{'MSFT': ['https://ca.finance.yahoo.com/news/microsoft-launches-surface-laptop-go-2-599-130049287.html',\n",
              "  'https://finance.yahoo.com/news/duck-creek-technologies-joins-microsoft-123000047.html',\n",
              "  'https://finance.yahoo.com/news/microsofts-surface-laptop-go-2-offers-more-speed-and-storage-capacity-130028787.html',\n",
              "  'https://finance.yahoo.com/news/heres-why-analyst-remained-bullish-182226629.html',\n",
              "  'https://ca.finance.yahoo.com/news/microsoft-lowers-revenue-profit-forecasts-131435503.html',\n",
              "  'https://finance.yahoo.com/news/microsoft-slow-hiring-windows-office-153055705.html',\n",
              "  'https://finance.yahoo.com/news/china-backed-hackers-exploiting-unpatched-111004168.html',\n",
              "  'https://finance.yahoo.com/news/accenture-microsoft-avanade-expand-partnership-115900867.html',\n",
              "  'https://finance.yahoo.com/news/microsoft-lowers-revenue-profit-forecasts-131435503.html',\n",
              "  'https://hk.finance.yahoo.com/news/%25E7%25BE%258E%25E8%2582%25A1%25E5%2586%258D%25E6%259A%25B4%25E6%258C%25AB-%25E5%25BE%25AE%25E8%25BB%259F%25E8%2582%25A1%25E7%25A5%25A8%25E6%2598%25AF%25E5%25BC%25B1%25E5%25B8%2582%25E7%259A%2584%25E5%25A5%25BD%25E9%2581%25B8%25E6%2593%2587%25EF%25BC%259F-153645326.html']}"
            ]
          },
          "metadata": {},
          "execution_count": 123
        }
      ],
      "source": [
        "cleaned_urls = {ticker:strip_unwanted_urls(raw_urls[ticker], exclude_list) for ticker in monitored_tickers}\n",
        "cleaned_urls"
      ]
    },
    {
      "cell_type": "markdown",
      "metadata": {
        "id": "hnRtx4ftVl-X"
      },
      "source": [
        "## 4.3. Search and Scrape Cleaned URLs"
      ]
    },
    {
      "cell_type": "code",
      "execution_count": 124,
      "metadata": {
        "id": "6AkXOB5tVl-X"
      },
      "outputs": [],
      "source": [
        "def scrape_and_process(URLs):\n",
        "    ARTICLES = []\n",
        "    for url in URLs: \n",
        "        r = requests.get(url)\n",
        "        soup = BeautifulSoup(r.text, 'html.parser')\n",
        "        paragraphs = soup.find_all('p')\n",
        "        text = [paragraph.text for paragraph in paragraphs]\n",
        "        words = ' '.join(text).split(' ')[:350]\n",
        "        ARTICLE = ' '.join(words)\n",
        "        ARTICLES.append(ARTICLE)\n",
        "    return ARTICLES"
      ]
    },
    {
      "cell_type": "code",
      "execution_count": 125,
      "metadata": {
        "id": "Y-1KCXByVl-Y",
        "outputId": "1d317e7c-abf5-4dce-8f56-3a1b458b3bb9",
        "colab": {
          "base_uri": "https://localhost:8080/"
        }
      },
      "outputs": [
        {
          "output_type": "execute_result",
          "data": {
            "text/plain": [
              "{'MSFT': ['Sentiment dented after JPMorgan CEO warned the U.S. economy is facing a \"hurricane\" Microsoft (MSFT) on Wednesday debuted its latest low-cost laptop for students and workers looking for a compact, Windows 11-powered system that won’t break the bank. Starting at $599, the Surface Laptop Go 2 is the follow-up to 2020’s Surface Laptop Go and gets faster performance and new replaceable components that Microsoft says will extend the usefulness of the Go 2. Microsoft’s latest laptop isn’t going to knock your socks off in the performance department, especially compared to the likes of the mighty Surface Laptop Studio. But its new 11th-generation Intel (INTC) Core i5 chip should provide more than enough power for web browsing, streaming movies, and video chatting. Think of the Surface Laptop Go 2 as more of a Chromebook (GOOG, GOOGL) competitor than a rival to, say, Apple’s (AAPL) MacBook Air. Its 12.4-inch touchscreen PixelSense display is on the smaller side, but ensures that, combined with the laptop’s thin and light design, the Surface Laptop Go 2 will easily slide into your bag. Despite its $599 price tag, the Surface Laptop Go 2 comes complete with premium features including a fingerprint reader, Instant On, and an improved webcam and speakers. Perhaps the Surface Laptop Go 2’s most impressive features are its ability to replace and upgrade a number of its components. Microsoft says you’ll be able to replace the Surface Laptop Go 2’s shell, battery, and solid-state drive, helping to ensure you’ll be able to use the pint-size laptop well into the future. Of course, it would be better if you could easily replace all of the Surface Laptop Go 2’s components, including its processor, but that’s likely a bit too much to ask at this point. Plus, it means users wouldn’t have to upgrade their devices for years. The Surface Laptop Go 2 is coming to market at a time when overall PC shipments are seeing their first declines following two years of impressive growth powered by consumers and businesses snagging systems for both schools and work-from-home setups. According to IDC, global PC shipments declined',\n",
              "  'Microsoft Azure customers worldwide may access Duck Creek OnDemand and leverage the company’s cloud-based capabilities to remain agile, intelligent and evergreen Boston, June 01, 2022 (GLOBE NEWSWIRE) -- Duck Creek Technologies (NASDAQ: DCT), a leading, global technology solutions provider to the property and casualty (P&C) insurance industry, today announces the availability of Duck Creek OnDemand, its cloud-based software-as-a-service (SaaS) solution, in the Microsoft Azure Marketplace. P&C insurance carriers with an existing Microsoft Azure Consumption Commitment (MACC) may fully utilize newly contracted Duck Creek OnDemand spend to contribute to their Azure commitment. Duck Creek offers policy, rating, billing, claims, producer, insights, distribution management, and industry content solutions in the Microsoft Azure Marketplace, and all solution purchases will be conveniently billed through one single Microsoft Invoice. By joining the Microsoft Azure Marketplace as a seller, Duck Creek expands its reach to help more P&C insurance businesses leverage cloud-based SaaS solutions to redefine their customer experiences and deliver game-changing results. “Duck Creek is proud to advance our partnership with Microsoft because they really understand enterprise and Azure offers Duck Creek the security, scalability and capability to bring modern innovations to the P&C industry,” said Mike Jackowski, CEO of Duck Creek. “By launching our solutions through their Azure Marketplace, we are empowering our customers – current and future – to use low-code technology that easily integrates across our vast partner ecosystem to drive results.” “Major P&C insurance companies turn to Duck Creek to optimize the entire end-to-end insurance lifecycle, accelerate product go-to-market initiatives, and deliver an engaging and optimized experience. \\xa0Our team at Microsoft has found strong alignment and great value in working closely with Duck Creek as a partner and we are thrilled to welcome them as a seller in the Azure Marketplace,” said Paul Maher, General Manager, Commercial Marketplace Services at Microsoft. A video accompanying this announcement is available at https://www.duckcreek.com/duck-creek-technologies-joins-microsoft-azure-marketplace-video/ \\xa0 About Microsoft Microsoft (Nasdaq “MSFT” @microsoft) enables digital transformation for the era of an intelligent cloud and an intelligent edge. Its mission is to empower every person and every organization on the planet to achieve more. \\xa0 About Duck Creek',\n",
              "  \"After a leak yesterday spoiled the surprise, Microsoft has unveiled the Surface Laptop Go 2, a $600 starter laptop with premium looks. It looks very much like the original, has an near-identical 12.4-inch 1,536 x 1,024 touch display, anodized aluminum top and weight that's just a fraction more at 2.48 pounds. However, the new model is powered by an 11th-gen Intel Core i5 CPU with Iris Xe graphics, and runs Windows 11 instead of Windows 10. The 11th-gen Intel CPU should give the Surface Laptop Go 2 a much-needed speed boost. And storage options are now 128GB or 256GB — a step up from the previous model, which offered just 64GB of sluggish eMMC storage on the base $550 model. However, other aspects of the new model haven't changed. It still offers from 4GB to 8GB of LPDDR4x RAM (or 16GB for commercial customers), a relatively low-resolution screen, and no backlight on the keyboard. Battery life is up a touch from 13 to 13.5 hours under normal usage, good enough for a day's worth of computing. And you can charge it to 80 percent power in under an hour thanks to the 39-watt charger. Other features include WiFi 802.11ax, one USB-C port, one USB-A port, a 3.5mm headphone jack and a Surface Connect power port. The Surface Laptop Go 2 is still the cheapest Surface laptop, but we weren't completely sold on the original. Designed to take on Chromebooks, it offered more premium look for a bit more money. However, the mediocre performance made it a tough sell against rivals like the Dell XPS 13, which cost about the same in an 8GB configuration. Hopefully, the new model addresses those performance concerns — it's now available on pre-order at Microsoft.com or BestBuy.com starting at $600. BlackBerry Ltd. said Wednesday that it is free to explore other sale options for its patents after the prolonged transaction closing of the previously announced deal with Catapult IP Innovations. BlackBerry announced at the end of January that it would sell its legacy patents relating mostly to mobile devices to Maryland-based Catapult for $600 million.\",\n",
              "  \"Tigress Financial Partners analyst Ivan Feinseth reiterated its Buy rating on Microsoft Corp (NASDAQ: MSFT) and maintained the price target of $411 as growth in Cloud continues to drive strong business performance. The recent pullback in price is a significant buying opportunity. Accelerating enterprise digitalization driving increasing IT spending will continue to drive accelerating Business Performance trends. MSFT continues to emerge as a dominant force in gaming and prepares to expand into the Metaverse with the recently announced acquisition of industry-leading game developer Activision Blizzard, Inc (NASDAQ: ATVI). MSFT’s strong balance sheet and cash flow will continue to fund ongoing growth initiatives and business-expanding strategic acquisitions and enhance shareholder returns through further dividend increases and share repurchases. Price Action: MSFT shares traded higher by 1.23% at $258.49 on the last check Friday. Latest Ratings for MSFT Feb 2022 Tigress Financial Maintains Buy Jan 2022 Citigroup Maintains Buy Jan 2022 Morgan Stanley Maintains Overweight View More Analyst Ratings for MSFT View the Latest Analyst Ratings See more from Benzinga Salesforce Looks To Assist Employees For Access To Abortions Following Roe v. Wade Microsoft Postpones 2 Xbox Games Don't miss real-time alerts on your stocks - join Benzinga Pro for free! Try the tool that will help you invest smarter, faster, and better. © 2022 Benzinga.com. Benzinga does not provide investment advice. All rights reserved. Related Quotes Markets have well and truly changed direction from last year’s bullish trends. The downward shift has brought us a major selloff, and declines of 27% and more in the tech-heavy NASDAQ index. For investors, it’s a situation that requires a close watch on the markets, and clear eye for the opportunities that will pop out as conditions change. It’s also a situation in which investors can use expert advice. Jim Cramer, the well-known host of CNBC’s ‘Mad Money’ program, tells investors that when the Entering the final day of trading this week, the stock of Chinese electric vehicle maker Nio (NYSE: NIO) had been down more than 12% just this week, and more than 25% over the past month.  After rising more than 9%\",\n",
              "  'Microsoft stock slides after tech giant lowers earnings outlook By Nivedita Balu and Yuvraj Malik (Reuters) - Microsoft Corp on Thursday cut its fourth-quarter forecast for profit and revenue, making it the latest U.S. company to warn of a hit from a stronger greenback. A hawkish Federal Reserve and heightened geopolitical tensions have driven a 14% gain in the dollar against a basket of currencies over the last year, forcing companies such as Coca-Cola Co and Procter & Gamble to temper expectations for the rest of the year. A stronger greenback typically eats into the profits of companies that have sprawling international operations and convert foreign currencies into dollars. \"Software companies including Microsoft have significant operations outside the U.S. and I think Microsoft is being prudent here to get ahead of (market) expectations and be transparent around currency impacts,\" said Steve Koenig, managing director at SMBC Nikko Securities. Microsoft, which gets about half its revenue from outside the United States, lowered its revenue forecast for all three segments, which include Windows products, cloud services and personal computing. Corporate hedging activity has increased as more companies try to guard their profits against the impact of currency fluctuations amid surging inflation. It is common for companies to protect themselves from unexpected forex moves, but the urgency comes after years of muted forex volatility, during which currency fluctuations had limited impact on earnings. Graphic: Surging U.S. Dollar - https://graphics.reuters.com/CURRENCY-USD/myvmnwwygpr/Pasted%20image%201654180802980.png The tech giant expects revenue for the quarter to be between $51.94 billion and $52.74 billion, down from its prior range of $52.40 billion to $53.20 billion. It cut the profit view to between $2.24 and $2.32 per share from a prior expectation of between $2.28 and $2.35 per share. Analysts are forecasting earnings of $2.33 per share on revenue of $52.87 billion, according to Refinitiv data. The company in April forecast double-digit revenue growth for the next fiscal year, thanks to demand for its office software and cloud services as economies reopen and businesses shift to a hybrid model of allowing staff to alternatively work from office and home. A Microsoft executive is',\n",
              "  '(Bloomberg) -- Microsoft Corp. will slow hiring in its Windows, Office and Teams chat and conferencing software groups, citing a need to realign staffing priorities as it approaches a new fiscal year in a time of global economic uncertainty. All new hires must be approved by Executive Vice President Rajesh Jha and his leadership team, Jha told employees in an email Thursday, a Microsoft spokesperson said. Those groups have expanded recently and the company wants to make sure it’s making the right hires in the right places, the spokesperson said. The slowdown is not companywide, and overall the software maker will continue to hire, the spokesperson said, noting that such caution is typical in periods of economic volatility. “As Microsoft gets ready for the new fiscal year, it is making sure the right resources are aligned to the right opportunity,” the company said in a statement. “Microsoft will continue to grow headcount in the year ahead and it will add additional focus to where those resources go.” The company’s fiscal year starts July 1. Other big technology companies have been slowing or freezing hiring in the past several months as stocks plummet and fears of an economic recession escalate. Chipmaker Nvidia Corp. said Wednesday it expects to decelerate hiring in the second half of fiscal 2023, and companies such as Meta Platforms Inc., Snap Inc. and Salesforce Inc. have taken similar steps. Earlier this month, Microsoft said it will nearly double its budget for salary increases and boost stock grants in order to better retain key workers. Read more: Sequoia Capital tells startup founders tech is having a ‘crucible moment’ (Adds details on other companies’ hiring plans in fourth paragraph.) Most Read from Bloomberg Businessweek China Youth Unemployment Crisis Leaves Tens of Millions Jobless Gun Sellers Push Quick Buy Now, Pay Later Financing A Startup Wants to Rescue You From Browser Tab Hell Gamification Took Over the Gig Economy. Who’s Really Winning? A New Prediction Market Lets Investors Bet Big on Almost Anything ©2022 Bloomberg L.P. Related Quotes (Bloomberg) -- European Union leaders intend to give their political backing to',\n",
              "  'China-backed hackers are exploiting an unpatched Microsoft Office zero-day vulnerability, known as “Follina”, to execute malicious code remotely on Windows systems. The high-severity vulnerability -- tracked as CVE-2022-30190 -- is being used in attacks to execute malicious PowerShell commands via the Microsoft Diagnostic Tool (MSDT) when opening or previewing specially crafted Office documents. The flaw, which affects 41 Microsoft products, including Windows 11 and Office 365, works without elevated privileges, bypasses Windows Defender detection and does not need macro code to be enabled to execute binaries or scripts. The zero-day can also circumvent Microsoft’s Protected View feature, an Office tool that warns against potentially malicious files and documents. Huntress researchers warned that converting the document to a Rich Text Format (RTF) file could allow attackers to bypass this warning and also enables the exploit to be triggered with a hover-preview of a downloaded file that does not require any clicks.  Microsoft has warned that the flaw could enable threat actors to install programs, delete data and create new accounts in the context allowed by the user’s rights. Cybersecurity researchers observed hackers exploiting the flaw to target Russian and Belarussian users since April, and Enterprise security firm Proofpoint said this week that a Chinese state-sponsored hacking group has been exploiting the zero-day in attacks targeting the international Tibetan community. \"TA413 CN APT spotted [in-the-wild] exploiting the Follina zero-day using URLs to deliver ZIP archives which contain Word Documents that use the technique,\" Proofpoint said in a tweet. \"Campaigns impersonate the \\'Women Empowerments Desk\\' of the Central Tibetan Administration and use the domain tibet-gov.web[.]app\". Proofpoint tells TechCrunch that it has previously observed the TA413 threat actor -- also tracked as \"LuckyCat\" and \"Earth Berberoka\" -- targeting Tibetan organizations through the use of malicious browser extensions and COVID-19-themed espionage campaigns. The Follina zero-day was initially reported to Microsoft on April 12, after Word documents -- which pretended to be from Russia’s Sputnik news agency offering recipients a radio interview -- were found abusing the flaw in the wild. However, Shadow Chaser Group\\'s crazyman, the researcher who first reported the zero-day, said Microsoft',\n",
              "  'NEW YORK & REDMOND, Wash. & SEATTLE, June 02, 2022--(BUSINESS WIRE)--Accenture (NYSE: ACN) and Microsoft, together with their joint venture Avanade, are joining forces to tackle climate change, one of the most critical and urgent challenges for both businesses and people. With an immediate emphasis on delivering solutions to help organizations transform their operations, products, services and value chains to help accelerate the transition to net zero, the three companies will expand their focus to broader environmental, social and governance (ESG) challenges in the future. The companies are investing in the co-development of innovative solutions — architected and designed at the onset to emit less carbon over their life cycle — and offering advisory services to help businesses reduce carbon emissions, speed the transition to new energy sources, and shrink or even eliminate waste of finite resources such as water, food and raw materials. With the powerful combination of Accenture Sustainability Services, Avanade’s human-centered digital experience, the Microsoft Cloud and each company’s robust data and artificial intelligence (AI) capabilities, the expanded strategic partnership will address both horizontal and industry-specific sustainability challenges to help drive impact and deliver new value. \"Increasingly, as all stakeholders look to business to move from commitment to action on environmental challenges, companies that embed sustainability across their enterprises can become a powerful force for change,\" said Julie Sweet, chair and chief executive officer of Accenture. \"Our partnership with Microsoft and Avanade will help organizations find new value at the intersection of technology and sustainability – from embracing green software development principles and sustainable cloud migrations, to digital twin technology adoption – to drive stronger performance and competitiveness, and make progress on their decarbonization goals and their journey to net zero.\" \"Operating sustainably has become a source of competitive advantage, enabling organizations to increase efficiency, accelerate growth and lead with purpose,\" said Judson Althoff, executive vice president and chief commercial officer, Microsoft. \"By combining our expertise with Accenture and Avanade, we have an opportunity and responsibility to deliver innovative solutions that will empower organizations to achieve their sustainability goals and drive lasting environmental change.\" Through the expanded',\n",
              "  \"(Reuters) - Microsoft Corp on Thursday lowered its forecast for profit and revenue in the fourth quarter, citing a hit from unfavorable currency movements. The company cut the profit view to $2.24 to $2.32 per share, from a prior expectation of $2.28 to $2.35 per share. It now expects revenue between $51.94 billion and $52.74 billion, compared with its prior range of $52.40 billion to $53.20 billion. (Reporting by Nivedita Balu in Bengaluru; Editing by Aditya Soni) After exploding in the headlines back in March, Amazon's (NASDAQ: AMZN) stock split is set for this Friday, and its share price has been climbing higher this week in anticipation.  The main reason to buy shares before the split is the likelihood that the share price will rise before and after the split.  Historically, stock splits have generated price increases. While stock splits tend to ramp up investor excitement, there are plenty of other reasons to buy shares in the Google parent. MarketWatch Picks has highlighted these products and services because we think readers will find them useful; the MarketWatch News staff is not involved in creating this content.  What’s more, if they’re telling you a 3% to 4% rate of return is what they can do, that’s because those lower returns are consistent with the goal of capital preservation rather than a growth-above-all-else strategy that would be needed to generate annual returns of 10% or more, says McBride. Ford issues a news release saying the auto maker has a big announcement planned for Thursday. Now we know what it is. Elon Musk is calling Tesla executives back to the office—and using factory workers’ demanding schedules to justify his orders.  The Tesla CEO sent out an email on May 31 entitled “Remote work is no longer acceptble (sic)” arguing for the company to succeed, executives needed to be back in Tesla’s main offices.  “Anyone who wishes to do remote work must be in the office for a minimum (and I mean *minimum*) of 40 hours per week or depart Tesla,” the electric-vehicle magnate wrote in the internal email\",\n",
              "  'Thank you for your patience. Our engineers are working quickly to resolve the issue.']}"
            ]
          },
          "metadata": {},
          "execution_count": 125
        }
      ],
      "source": [
        "articles = {ticker:scrape_and_process(cleaned_urls[ticker]) for ticker in monitored_tickers}\n",
        "articles"
      ]
    },
    {
      "cell_type": "code",
      "execution_count": 127,
      "metadata": {
        "id": "QA6GTz9hVl-Y",
        "outputId": "b84189d0-61e9-4065-ac04-facf95ad456e",
        "colab": {
          "base_uri": "https://localhost:8080/"
        }
      },
      "outputs": [
        {
          "output_type": "execute_result",
          "data": {
            "text/plain": [
              "['Sentiment dented after JPMorgan CEO warned the U.S. economy is facing a \"hurricane\" Microsoft (MSFT) on Wednesday debuted its latest low-cost laptop for students and workers looking for a compact, Windows 11-powered system that won’t break the bank. Starting at $599, the Surface Laptop Go 2 is the follow-up to 2020’s Surface Laptop Go and gets faster performance and new replaceable components that Microsoft says will extend the usefulness of the Go 2. Microsoft’s latest laptop isn’t going to knock your socks off in the performance department, especially compared to the likes of the mighty Surface Laptop Studio. But its new 11th-generation Intel (INTC) Core i5 chip should provide more than enough power for web browsing, streaming movies, and video chatting. Think of the Surface Laptop Go 2 as more of a Chromebook (GOOG, GOOGL) competitor than a rival to, say, Apple’s (AAPL) MacBook Air. Its 12.4-inch touchscreen PixelSense display is on the smaller side, but ensures that, combined with the laptop’s thin and light design, the Surface Laptop Go 2 will easily slide into your bag. Despite its $599 price tag, the Surface Laptop Go 2 comes complete with premium features including a fingerprint reader, Instant On, and an improved webcam and speakers. Perhaps the Surface Laptop Go 2’s most impressive features are its ability to replace and upgrade a number of its components. Microsoft says you’ll be able to replace the Surface Laptop Go 2’s shell, battery, and solid-state drive, helping to ensure you’ll be able to use the pint-size laptop well into the future. Of course, it would be better if you could easily replace all of the Surface Laptop Go 2’s components, including its processor, but that’s likely a bit too much to ask at this point. Plus, it means users wouldn’t have to upgrade their devices for years. The Surface Laptop Go 2 is coming to market at a time when overall PC shipments are seeing their first declines following two years of impressive growth powered by consumers and businesses snagging systems for both schools and work-from-home setups. According to IDC, global PC shipments declined',\n",
              " 'Microsoft Azure customers worldwide may access Duck Creek OnDemand and leverage the company’s cloud-based capabilities to remain agile, intelligent and evergreen Boston, June 01, 2022 (GLOBE NEWSWIRE) -- Duck Creek Technologies (NASDAQ: DCT), a leading, global technology solutions provider to the property and casualty (P&C) insurance industry, today announces the availability of Duck Creek OnDemand, its cloud-based software-as-a-service (SaaS) solution, in the Microsoft Azure Marketplace. P&C insurance carriers with an existing Microsoft Azure Consumption Commitment (MACC) may fully utilize newly contracted Duck Creek OnDemand spend to contribute to their Azure commitment. Duck Creek offers policy, rating, billing, claims, producer, insights, distribution management, and industry content solutions in the Microsoft Azure Marketplace, and all solution purchases will be conveniently billed through one single Microsoft Invoice. By joining the Microsoft Azure Marketplace as a seller, Duck Creek expands its reach to help more P&C insurance businesses leverage cloud-based SaaS solutions to redefine their customer experiences and deliver game-changing results. “Duck Creek is proud to advance our partnership with Microsoft because they really understand enterprise and Azure offers Duck Creek the security, scalability and capability to bring modern innovations to the P&C industry,” said Mike Jackowski, CEO of Duck Creek. “By launching our solutions through their Azure Marketplace, we are empowering our customers – current and future – to use low-code technology that easily integrates across our vast partner ecosystem to drive results.” “Major P&C insurance companies turn to Duck Creek to optimize the entire end-to-end insurance lifecycle, accelerate product go-to-market initiatives, and deliver an engaging and optimized experience. \\xa0Our team at Microsoft has found strong alignment and great value in working closely with Duck Creek as a partner and we are thrilled to welcome them as a seller in the Azure Marketplace,” said Paul Maher, General Manager, Commercial Marketplace Services at Microsoft. A video accompanying this announcement is available at https://www.duckcreek.com/duck-creek-technologies-joins-microsoft-azure-marketplace-video/ \\xa0 About Microsoft Microsoft (Nasdaq “MSFT” @microsoft) enables digital transformation for the era of an intelligent cloud and an intelligent edge. Its mission is to empower every person and every organization on the planet to achieve more. \\xa0 About Duck Creek',\n",
              " \"After a leak yesterday spoiled the surprise, Microsoft has unveiled the Surface Laptop Go 2, a $600 starter laptop with premium looks. It looks very much like the original, has an near-identical 12.4-inch 1,536 x 1,024 touch display, anodized aluminum top and weight that's just a fraction more at 2.48 pounds. However, the new model is powered by an 11th-gen Intel Core i5 CPU with Iris Xe graphics, and runs Windows 11 instead of Windows 10. The 11th-gen Intel CPU should give the Surface Laptop Go 2 a much-needed speed boost. And storage options are now 128GB or 256GB — a step up from the previous model, which offered just 64GB of sluggish eMMC storage on the base $550 model. However, other aspects of the new model haven't changed. It still offers from 4GB to 8GB of LPDDR4x RAM (or 16GB for commercial customers), a relatively low-resolution screen, and no backlight on the keyboard. Battery life is up a touch from 13 to 13.5 hours under normal usage, good enough for a day's worth of computing. And you can charge it to 80 percent power in under an hour thanks to the 39-watt charger. Other features include WiFi 802.11ax, one USB-C port, one USB-A port, a 3.5mm headphone jack and a Surface Connect power port. The Surface Laptop Go 2 is still the cheapest Surface laptop, but we weren't completely sold on the original. Designed to take on Chromebooks, it offered more premium look for a bit more money. However, the mediocre performance made it a tough sell against rivals like the Dell XPS 13, which cost about the same in an 8GB configuration. Hopefully, the new model addresses those performance concerns — it's now available on pre-order at Microsoft.com or BestBuy.com starting at $600. BlackBerry Ltd. said Wednesday that it is free to explore other sale options for its patents after the prolonged transaction closing of the previously announced deal with Catapult IP Innovations. BlackBerry announced at the end of January that it would sell its legacy patents relating mostly to mobile devices to Maryland-based Catapult for $600 million.\",\n",
              " \"Tigress Financial Partners analyst Ivan Feinseth reiterated its Buy rating on Microsoft Corp (NASDAQ: MSFT) and maintained the price target of $411 as growth in Cloud continues to drive strong business performance. The recent pullback in price is a significant buying opportunity. Accelerating enterprise digitalization driving increasing IT spending will continue to drive accelerating Business Performance trends. MSFT continues to emerge as a dominant force in gaming and prepares to expand into the Metaverse with the recently announced acquisition of industry-leading game developer Activision Blizzard, Inc (NASDAQ: ATVI). MSFT’s strong balance sheet and cash flow will continue to fund ongoing growth initiatives and business-expanding strategic acquisitions and enhance shareholder returns through further dividend increases and share repurchases. Price Action: MSFT shares traded higher by 1.23% at $258.49 on the last check Friday. Latest Ratings for MSFT Feb 2022 Tigress Financial Maintains Buy Jan 2022 Citigroup Maintains Buy Jan 2022 Morgan Stanley Maintains Overweight View More Analyst Ratings for MSFT View the Latest Analyst Ratings See more from Benzinga Salesforce Looks To Assist Employees For Access To Abortions Following Roe v. Wade Microsoft Postpones 2 Xbox Games Don't miss real-time alerts on your stocks - join Benzinga Pro for free! Try the tool that will help you invest smarter, faster, and better. © 2022 Benzinga.com. Benzinga does not provide investment advice. All rights reserved. Related Quotes Markets have well and truly changed direction from last year’s bullish trends. The downward shift has brought us a major selloff, and declines of 27% and more in the tech-heavy NASDAQ index. For investors, it’s a situation that requires a close watch on the markets, and clear eye for the opportunities that will pop out as conditions change. It’s also a situation in which investors can use expert advice. Jim Cramer, the well-known host of CNBC’s ‘Mad Money’ program, tells investors that when the Entering the final day of trading this week, the stock of Chinese electric vehicle maker Nio (NYSE: NIO) had been down more than 12% just this week, and more than 25% over the past month.  After rising more than 9%\",\n",
              " 'Microsoft stock slides after tech giant lowers earnings outlook By Nivedita Balu and Yuvraj Malik (Reuters) - Microsoft Corp on Thursday cut its fourth-quarter forecast for profit and revenue, making it the latest U.S. company to warn of a hit from a stronger greenback. A hawkish Federal Reserve and heightened geopolitical tensions have driven a 14% gain in the dollar against a basket of currencies over the last year, forcing companies such as Coca-Cola Co and Procter & Gamble to temper expectations for the rest of the year. A stronger greenback typically eats into the profits of companies that have sprawling international operations and convert foreign currencies into dollars. \"Software companies including Microsoft have significant operations outside the U.S. and I think Microsoft is being prudent here to get ahead of (market) expectations and be transparent around currency impacts,\" said Steve Koenig, managing director at SMBC Nikko Securities. Microsoft, which gets about half its revenue from outside the United States, lowered its revenue forecast for all three segments, which include Windows products, cloud services and personal computing. Corporate hedging activity has increased as more companies try to guard their profits against the impact of currency fluctuations amid surging inflation. It is common for companies to protect themselves from unexpected forex moves, but the urgency comes after years of muted forex volatility, during which currency fluctuations had limited impact on earnings. Graphic: Surging U.S. Dollar - https://graphics.reuters.com/CURRENCY-USD/myvmnwwygpr/Pasted%20image%201654180802980.png The tech giant expects revenue for the quarter to be between $51.94 billion and $52.74 billion, down from its prior range of $52.40 billion to $53.20 billion. It cut the profit view to between $2.24 and $2.32 per share from a prior expectation of between $2.28 and $2.35 per share. Analysts are forecasting earnings of $2.33 per share on revenue of $52.87 billion, according to Refinitiv data. The company in April forecast double-digit revenue growth for the next fiscal year, thanks to demand for its office software and cloud services as economies reopen and businesses shift to a hybrid model of allowing staff to alternatively work from office and home. A Microsoft executive is',\n",
              " '(Bloomberg) -- Microsoft Corp. will slow hiring in its Windows, Office and Teams chat and conferencing software groups, citing a need to realign staffing priorities as it approaches a new fiscal year in a time of global economic uncertainty. All new hires must be approved by Executive Vice President Rajesh Jha and his leadership team, Jha told employees in an email Thursday, a Microsoft spokesperson said. Those groups have expanded recently and the company wants to make sure it’s making the right hires in the right places, the spokesperson said. The slowdown is not companywide, and overall the software maker will continue to hire, the spokesperson said, noting that such caution is typical in periods of economic volatility. “As Microsoft gets ready for the new fiscal year, it is making sure the right resources are aligned to the right opportunity,” the company said in a statement. “Microsoft will continue to grow headcount in the year ahead and it will add additional focus to where those resources go.” The company’s fiscal year starts July 1. Other big technology companies have been slowing or freezing hiring in the past several months as stocks plummet and fears of an economic recession escalate. Chipmaker Nvidia Corp. said Wednesday it expects to decelerate hiring in the second half of fiscal 2023, and companies such as Meta Platforms Inc., Snap Inc. and Salesforce Inc. have taken similar steps. Earlier this month, Microsoft said it will nearly double its budget for salary increases and boost stock grants in order to better retain key workers. Read more: Sequoia Capital tells startup founders tech is having a ‘crucible moment’ (Adds details on other companies’ hiring plans in fourth paragraph.) Most Read from Bloomberg Businessweek China Youth Unemployment Crisis Leaves Tens of Millions Jobless Gun Sellers Push Quick Buy Now, Pay Later Financing A Startup Wants to Rescue You From Browser Tab Hell Gamification Took Over the Gig Economy. Who’s Really Winning? A New Prediction Market Lets Investors Bet Big on Almost Anything ©2022 Bloomberg L.P. Related Quotes (Bloomberg) -- European Union leaders intend to give their political backing to',\n",
              " 'China-backed hackers are exploiting an unpatched Microsoft Office zero-day vulnerability, known as “Follina”, to execute malicious code remotely on Windows systems. The high-severity vulnerability -- tracked as CVE-2022-30190 -- is being used in attacks to execute malicious PowerShell commands via the Microsoft Diagnostic Tool (MSDT) when opening or previewing specially crafted Office documents. The flaw, which affects 41 Microsoft products, including Windows 11 and Office 365, works without elevated privileges, bypasses Windows Defender detection and does not need macro code to be enabled to execute binaries or scripts. The zero-day can also circumvent Microsoft’s Protected View feature, an Office tool that warns against potentially malicious files and documents. Huntress researchers warned that converting the document to a Rich Text Format (RTF) file could allow attackers to bypass this warning and also enables the exploit to be triggered with a hover-preview of a downloaded file that does not require any clicks.  Microsoft has warned that the flaw could enable threat actors to install programs, delete data and create new accounts in the context allowed by the user’s rights. Cybersecurity researchers observed hackers exploiting the flaw to target Russian and Belarussian users since April, and Enterprise security firm Proofpoint said this week that a Chinese state-sponsored hacking group has been exploiting the zero-day in attacks targeting the international Tibetan community. \"TA413 CN APT spotted [in-the-wild] exploiting the Follina zero-day using URLs to deliver ZIP archives which contain Word Documents that use the technique,\" Proofpoint said in a tweet. \"Campaigns impersonate the \\'Women Empowerments Desk\\' of the Central Tibetan Administration and use the domain tibet-gov.web[.]app\". Proofpoint tells TechCrunch that it has previously observed the TA413 threat actor -- also tracked as \"LuckyCat\" and \"Earth Berberoka\" -- targeting Tibetan organizations through the use of malicious browser extensions and COVID-19-themed espionage campaigns. The Follina zero-day was initially reported to Microsoft on April 12, after Word documents -- which pretended to be from Russia’s Sputnik news agency offering recipients a radio interview -- were found abusing the flaw in the wild. However, Shadow Chaser Group\\'s crazyman, the researcher who first reported the zero-day, said Microsoft',\n",
              " 'NEW YORK & REDMOND, Wash. & SEATTLE, June 02, 2022--(BUSINESS WIRE)--Accenture (NYSE: ACN) and Microsoft, together with their joint venture Avanade, are joining forces to tackle climate change, one of the most critical and urgent challenges for both businesses and people. With an immediate emphasis on delivering solutions to help organizations transform their operations, products, services and value chains to help accelerate the transition to net zero, the three companies will expand their focus to broader environmental, social and governance (ESG) challenges in the future. The companies are investing in the co-development of innovative solutions — architected and designed at the onset to emit less carbon over their life cycle — and offering advisory services to help businesses reduce carbon emissions, speed the transition to new energy sources, and shrink or even eliminate waste of finite resources such as water, food and raw materials. With the powerful combination of Accenture Sustainability Services, Avanade’s human-centered digital experience, the Microsoft Cloud and each company’s robust data and artificial intelligence (AI) capabilities, the expanded strategic partnership will address both horizontal and industry-specific sustainability challenges to help drive impact and deliver new value. \"Increasingly, as all stakeholders look to business to move from commitment to action on environmental challenges, companies that embed sustainability across their enterprises can become a powerful force for change,\" said Julie Sweet, chair and chief executive officer of Accenture. \"Our partnership with Microsoft and Avanade will help organizations find new value at the intersection of technology and sustainability – from embracing green software development principles and sustainable cloud migrations, to digital twin technology adoption – to drive stronger performance and competitiveness, and make progress on their decarbonization goals and their journey to net zero.\" \"Operating sustainably has become a source of competitive advantage, enabling organizations to increase efficiency, accelerate growth and lead with purpose,\" said Judson Althoff, executive vice president and chief commercial officer, Microsoft. \"By combining our expertise with Accenture and Avanade, we have an opportunity and responsibility to deliver innovative solutions that will empower organizations to achieve their sustainability goals and drive lasting environmental change.\" Through the expanded',\n",
              " \"(Reuters) - Microsoft Corp on Thursday lowered its forecast for profit and revenue in the fourth quarter, citing a hit from unfavorable currency movements. The company cut the profit view to $2.24 to $2.32 per share, from a prior expectation of $2.28 to $2.35 per share. It now expects revenue between $51.94 billion and $52.74 billion, compared with its prior range of $52.40 billion to $53.20 billion. (Reporting by Nivedita Balu in Bengaluru; Editing by Aditya Soni) After exploding in the headlines back in March, Amazon's (NASDAQ: AMZN) stock split is set for this Friday, and its share price has been climbing higher this week in anticipation.  The main reason to buy shares before the split is the likelihood that the share price will rise before and after the split.  Historically, stock splits have generated price increases. While stock splits tend to ramp up investor excitement, there are plenty of other reasons to buy shares in the Google parent. MarketWatch Picks has highlighted these products and services because we think readers will find them useful; the MarketWatch News staff is not involved in creating this content.  What’s more, if they’re telling you a 3% to 4% rate of return is what they can do, that’s because those lower returns are consistent with the goal of capital preservation rather than a growth-above-all-else strategy that would be needed to generate annual returns of 10% or more, says McBride. Ford issues a news release saying the auto maker has a big announcement planned for Thursday. Now we know what it is. Elon Musk is calling Tesla executives back to the office—and using factory workers’ demanding schedules to justify his orders.  The Tesla CEO sent out an email on May 31 entitled “Remote work is no longer acceptble (sic)” arguing for the company to succeed, executives needed to be back in Tesla’s main offices.  “Anyone who wishes to do remote work must be in the office for a minimum (and I mean *minimum*) of 40 hours per week or depart Tesla,” the electric-vehicle magnate wrote in the internal email\",\n",
              " 'Thank you for your patience. Our engineers are working quickly to resolve the issue.']"
            ]
          },
          "metadata": {},
          "execution_count": 127
        }
      ],
      "source": [
        "articles['MSFT']"
      ]
    },
    {
      "cell_type": "markdown",
      "metadata": {
        "id": "jYtrDsTNVl-Y"
      },
      "source": [
        "## 4.4. Summarise all Articles"
      ]
    },
    {
      "cell_type": "code",
      "execution_count": 128,
      "metadata": {
        "id": "dwTwJ1toVl-Y"
      },
      "outputs": [],
      "source": [
        "def summarize(articles):\n",
        "    summaries = []\n",
        "    for article in articles:\n",
        "        input_ids = tokenizer.encode(article, return_tensors='pt')\n",
        "        output = model.generate(input_ids, max_length=55, num_beams=5, early_stopping=True)\n",
        "        summary = tokenizer.decode(output[0], skip_special_tokens=True)\n",
        "        summaries.append(summary)\n",
        "    return summaries"
      ]
    },
    {
      "cell_type": "code",
      "execution_count": 129,
      "metadata": {
        "collapsed": true,
        "colab": {
          "base_uri": "https://localhost:8080/"
        },
        "id": "wxigCVowVl-Y",
        "outputId": "0948cc36-68e2-4456-eae9-97512de7ea7f"
      },
      "outputs": [
        {
          "output_type": "execute_result",
          "data": {
            "text/plain": [
              "{'MSFT': ['Surface Laptop Go 2 gets faster performance, replaceable components. Smaller, lighter than 2020’s Surface Go',\n",
              "  'Software-as-service () solution available on the Microsoft Azure. P&C insurance companies turn to Duck Creek to optimize end-to-end insurance lifecycle',\n",
              "  'New Surface Laptop Go 2 comes with an 11th-gen Intel CPU. Battery life up a touch to 13.5 hours under normal usage',\n",
              "  'Recent pullback in price is a significant buying opportunity.',\n",
              "  'Tech giant is latest U.S. company to warn of a stronger dollar.',\n",
              "  'Company cites need to realign staffing priorities. Tech firms have been slowing or freezing hiring in recent months',\n",
              "  'Security firm Proofpoint says Chinese hackers are exploiting the flaw.',\n",
              "  'Companies join forces to help accelerate transition to net zero. Co-development of innovative solutions to help businesses reduce carbon emissions',\n",
              "  'Tech giant cuts fourth-quarter profit and revenue forecast. Tesla CEO calls factory workers demanding schedules',\n",
              "  'We are aware of the issue and are working to resolve it.']}"
            ]
          },
          "metadata": {},
          "execution_count": 129
        }
      ],
      "source": [
        "summaries = {ticker:summarize(articles[ticker]) for ticker in monitored_tickers}\n",
        "summaries"
      ]
    },
    {
      "cell_type": "code",
      "execution_count": null,
      "metadata": {
        "id": "KOrbYal1Vl-Y"
      },
      "outputs": [],
      "source": [
        "summaries['AAPL']"
      ]
    },
    {
      "cell_type": "markdown",
      "metadata": {
        "id": "EhGmH1doVl-Y"
      },
      "source": [
        "# 5. Adding Sentiment Analysis"
      ]
    },
    {
      "cell_type": "code",
      "execution_count": 131,
      "metadata": {
        "id": "zqpa3s6aVl-Y",
        "colab": {
          "base_uri": "https://localhost:8080/"
        },
        "outputId": "d1fc0216-b342-40d5-ffba-8f762b008a8b"
      },
      "outputs": [
        {
          "output_type": "stream",
          "name": "stderr",
          "text": [
            "No model was supplied, defaulted to distilbert-base-uncased-finetuned-sst-2-english (https://huggingface.co/distilbert-base-uncased-finetuned-sst-2-english)\n"
          ]
        }
      ],
      "source": [
        "from transformers import pipeline\n",
        "sentiment = pipeline('sentiment-analysis')"
      ]
    },
    {
      "cell_type": "code",
      "execution_count": 130,
      "metadata": {
        "id": "m82pJBq1Vl-Y",
        "outputId": "fceef8b6-4979-4c80-d621-9f03c712bf31",
        "colab": {
          "base_uri": "https://localhost:8080/"
        }
      },
      "outputs": [
        {
          "output_type": "execute_result",
          "data": {
            "text/plain": [
              "[{'label': 'NEGATIVE', 'score': 0.6890648603439331},\n",
              " {'label': 'NEGATIVE', 'score': 0.7326964735984802},\n",
              " {'label': 'NEGATIVE', 'score': 0.9706153273582458},\n",
              " {'label': 'POSITIVE', 'score': 0.9970439076423645},\n",
              " {'label': 'NEGATIVE', 'score': 0.9806005358695984},\n",
              " {'label': 'NEGATIVE', 'score': 0.9971606731414795},\n",
              " {'label': 'NEGATIVE', 'score': 0.9979946613311768},\n",
              " {'label': 'POSITIVE', 'score': 0.9985938668251038},\n",
              " {'label': 'NEGATIVE', 'score': 0.9985505938529968},\n",
              " {'label': 'POSITIVE', 'score': 0.9979088306427002}]"
            ]
          },
          "metadata": {},
          "execution_count": 130
        }
      ],
      "source": [
        "sentiment(summaries['MSFT'])"
      ]
    },
    {
      "cell_type": "code",
      "execution_count": 132,
      "metadata": {
        "collapsed": true,
        "id": "9nawFTJqVl-Y",
        "outputId": "a8b5f10c-0c5e-46fb-f68c-7fbdd63586a7",
        "colab": {
          "base_uri": "https://localhost:8080/"
        }
      },
      "outputs": [
        {
          "output_type": "execute_result",
          "data": {
            "text/plain": [
              "{'MSFT': [{'label': 'NEGATIVE', 'score': 0.6890648603439331},\n",
              "  {'label': 'NEGATIVE', 'score': 0.7326964735984802},\n",
              "  {'label': 'NEGATIVE', 'score': 0.9706153273582458},\n",
              "  {'label': 'POSITIVE', 'score': 0.9970439076423645},\n",
              "  {'label': 'NEGATIVE', 'score': 0.9806005358695984},\n",
              "  {'label': 'NEGATIVE', 'score': 0.9971606731414795},\n",
              "  {'label': 'NEGATIVE', 'score': 0.9979946613311768},\n",
              "  {'label': 'POSITIVE', 'score': 0.9985938668251038},\n",
              "  {'label': 'NEGATIVE', 'score': 0.9985505938529968},\n",
              "  {'label': 'POSITIVE', 'score': 0.9979088306427002}]}"
            ]
          },
          "metadata": {},
          "execution_count": 132
        }
      ],
      "source": [
        "scores = {ticker:sentiment(summaries[ticker]) for ticker in monitored_tickers}\n",
        "scores"
      ]
    },
    {
      "cell_type": "code",
      "execution_count": 133,
      "metadata": {
        "id": "GGD6ZAgzVl-Y",
        "outputId": "7d177be4-1122-4bc5-e321-177e90568a51",
        "colab": {
          "base_uri": "https://localhost:8080/"
        }
      },
      "outputs": [
        {
          "output_type": "stream",
          "name": "stdout",
          "text": [
            "New Surface Laptop Go 2 comes with an 11th-gen Intel CPU. Battery life up a touch to 13.5 hours under normal usage NEGATIVE 0.9706153273582458\n"
          ]
        }
      ],
      "source": [
        "print(summaries['MSFT'][2], scores['MSFT'][2]['label'], scores['MSFT'][2]['score'])"
      ]
    },
    {
      "cell_type": "code",
      "execution_count": 134,
      "metadata": {
        "id": "FySKJ0RtVl-Z",
        "outputId": "a13337c7-b264-4c5a-f3de-089cf6c4b8a7",
        "colab": {
          "base_uri": "https://localhost:8080/"
        }
      },
      "outputs": [
        {
          "output_type": "execute_result",
          "data": {
            "text/plain": [
              "0.6890648603439331"
            ]
          },
          "metadata": {},
          "execution_count": 134
        }
      ],
      "source": [
        "scores['MSFT'][0]['score']"
      ]
    },
    {
      "cell_type": "markdown",
      "metadata": {
        "id": "fh1DPuUuVl-Z"
      },
      "source": [
        "# 6. Exporting Results to CSV"
      ]
    },
    {
      "cell_type": "code",
      "execution_count": 135,
      "metadata": {
        "collapsed": true,
        "id": "chwAic6pVl-Z",
        "outputId": "fef82ae2-30d6-4a4e-d1d5-b843fef153fb",
        "colab": {
          "base_uri": "https://localhost:8080/"
        }
      },
      "outputs": [
        {
          "output_type": "execute_result",
          "data": {
            "text/plain": [
              "{'MSFT': ['Surface Laptop Go 2 gets faster performance, replaceable components. Smaller, lighter than 2020’s Surface Go',\n",
              "  'Software-as-service () solution available on the Microsoft Azure. P&C insurance companies turn to Duck Creek to optimize end-to-end insurance lifecycle',\n",
              "  'New Surface Laptop Go 2 comes with an 11th-gen Intel CPU. Battery life up a touch to 13.5 hours under normal usage',\n",
              "  'Recent pullback in price is a significant buying opportunity.',\n",
              "  'Tech giant is latest U.S. company to warn of a stronger dollar.',\n",
              "  'Company cites need to realign staffing priorities. Tech firms have been slowing or freezing hiring in recent months',\n",
              "  'Security firm Proofpoint says Chinese hackers are exploiting the flaw.',\n",
              "  'Companies join forces to help accelerate transition to net zero. Co-development of innovative solutions to help businesses reduce carbon emissions',\n",
              "  'Tech giant cuts fourth-quarter profit and revenue forecast. Tesla CEO calls factory workers demanding schedules',\n",
              "  'We are aware of the issue and are working to resolve it.']}"
            ]
          },
          "metadata": {},
          "execution_count": 135
        }
      ],
      "source": [
        "summaries"
      ]
    },
    {
      "cell_type": "code",
      "execution_count": 136,
      "metadata": {
        "collapsed": true,
        "id": "M5i3cq8ZVl-Z",
        "outputId": "2868ed5f-51e2-488f-80e9-40ed676671da",
        "colab": {
          "base_uri": "https://localhost:8080/"
        }
      },
      "outputs": [
        {
          "output_type": "execute_result",
          "data": {
            "text/plain": [
              "{'MSFT': [{'label': 'NEGATIVE', 'score': 0.6890648603439331},\n",
              "  {'label': 'NEGATIVE', 'score': 0.7326964735984802},\n",
              "  {'label': 'NEGATIVE', 'score': 0.9706153273582458},\n",
              "  {'label': 'POSITIVE', 'score': 0.9970439076423645},\n",
              "  {'label': 'NEGATIVE', 'score': 0.9806005358695984},\n",
              "  {'label': 'NEGATIVE', 'score': 0.9971606731414795},\n",
              "  {'label': 'NEGATIVE', 'score': 0.9979946613311768},\n",
              "  {'label': 'POSITIVE', 'score': 0.9985938668251038},\n",
              "  {'label': 'NEGATIVE', 'score': 0.9985505938529968},\n",
              "  {'label': 'POSITIVE', 'score': 0.9979088306427002}]}"
            ]
          },
          "metadata": {},
          "execution_count": 136
        }
      ],
      "source": [
        "scores"
      ]
    },
    {
      "cell_type": "code",
      "execution_count": 137,
      "metadata": {
        "collapsed": true,
        "id": "90QQAqW6Vl-Z",
        "outputId": "8c33800b-ca4e-4f21-f3d6-1b43fead4e98",
        "colab": {
          "base_uri": "https://localhost:8080/"
        }
      },
      "outputs": [
        {
          "output_type": "execute_result",
          "data": {
            "text/plain": [
              "{'MSFT': ['https://ca.finance.yahoo.com/news/microsoft-launches-surface-laptop-go-2-599-130049287.html',\n",
              "  'https://finance.yahoo.com/news/duck-creek-technologies-joins-microsoft-123000047.html',\n",
              "  'https://finance.yahoo.com/news/microsofts-surface-laptop-go-2-offers-more-speed-and-storage-capacity-130028787.html',\n",
              "  'https://finance.yahoo.com/news/heres-why-analyst-remained-bullish-182226629.html',\n",
              "  'https://ca.finance.yahoo.com/news/microsoft-lowers-revenue-profit-forecasts-131435503.html',\n",
              "  'https://finance.yahoo.com/news/microsoft-slow-hiring-windows-office-153055705.html',\n",
              "  'https://finance.yahoo.com/news/china-backed-hackers-exploiting-unpatched-111004168.html',\n",
              "  'https://finance.yahoo.com/news/accenture-microsoft-avanade-expand-partnership-115900867.html',\n",
              "  'https://finance.yahoo.com/news/microsoft-lowers-revenue-profit-forecasts-131435503.html',\n",
              "  'https://hk.finance.yahoo.com/news/%25E7%25BE%258E%25E8%2582%25A1%25E5%2586%258D%25E6%259A%25B4%25E6%258C%25AB-%25E5%25BE%25AE%25E8%25BB%259F%25E8%2582%25A1%25E7%25A5%25A8%25E6%2598%25AF%25E5%25BC%25B1%25E5%25B8%2582%25E7%259A%2584%25E5%25A5%25BD%25E9%2581%25B8%25E6%2593%2587%25EF%25BC%259F-153645326.html']}"
            ]
          },
          "metadata": {},
          "execution_count": 137
        }
      ],
      "source": [
        "cleaned_urls"
      ]
    },
    {
      "cell_type": "code",
      "execution_count": 138,
      "metadata": {
        "id": "DOUkgMLqVl-Z",
        "outputId": "c5059014-7cc3-4239-931b-ef5a512839e0",
        "colab": {
          "base_uri": "https://localhost:8080/"
        }
      },
      "outputs": [
        {
          "output_type": "execute_result",
          "data": {
            "text/plain": [
              "range(0, 10)"
            ]
          },
          "metadata": {},
          "execution_count": 138
        }
      ],
      "source": [
        "range(len(summaries['MSFT']))"
      ]
    },
    {
      "cell_type": "code",
      "execution_count": 139,
      "metadata": {
        "id": "6F2eDaGVVl-Z",
        "outputId": "b41afc05-5f08-41ef-b093-29da5539da01",
        "colab": {
          "base_uri": "https://localhost:8080/",
          "height": 35
        }
      },
      "outputs": [
        {
          "output_type": "execute_result",
          "data": {
            "text/plain": [
              "'Recent pullback in price is a significant buying opportunity.'"
            ],
            "application/vnd.google.colaboratory.intrinsic+json": {
              "type": "string"
            }
          },
          "metadata": {},
          "execution_count": 139
        }
      ],
      "source": [
        "summaries['MSFT'][3]"
      ]
    },
    {
      "cell_type": "code",
      "execution_count": 140,
      "metadata": {
        "id": "4OtOogriVl-Z"
      },
      "outputs": [],
      "source": [
        "def create_output_array(summaries, scores, urls):\n",
        "    output = []\n",
        "    for ticker in monitored_tickers:\n",
        "        for counter in range(len(summaries[ticker])):\n",
        "            output_this = [\n",
        "                ticker,\n",
        "                summaries[ticker][counter],\n",
        "                scores[ticker][counter]['label'],\n",
        "                scores[ticker][counter]['score'],\n",
        "                urls[ticker][counter]\n",
        "            ]\n",
        "            output.append(output_this)\n",
        "    return output"
      ]
    },
    {
      "cell_type": "code",
      "execution_count": 141,
      "metadata": {
        "collapsed": true,
        "id": "1kJ58ZPCVl-Z",
        "outputId": "a0e79b77-2a85-4d89-bb30-0cc29d1054ca",
        "colab": {
          "base_uri": "https://localhost:8080/"
        }
      },
      "outputs": [
        {
          "output_type": "execute_result",
          "data": {
            "text/plain": [
              "[['MSFT',\n",
              "  'Surface Laptop Go 2 gets faster performance, replaceable components. Smaller, lighter than 2020’s Surface Go',\n",
              "  'NEGATIVE',\n",
              "  0.6890648603439331,\n",
              "  'https://ca.finance.yahoo.com/news/microsoft-launches-surface-laptop-go-2-599-130049287.html'],\n",
              " ['MSFT',\n",
              "  'Software-as-service () solution available on the Microsoft Azure. P&C insurance companies turn to Duck Creek to optimize end-to-end insurance lifecycle',\n",
              "  'NEGATIVE',\n",
              "  0.7326964735984802,\n",
              "  'https://finance.yahoo.com/news/duck-creek-technologies-joins-microsoft-123000047.html'],\n",
              " ['MSFT',\n",
              "  'New Surface Laptop Go 2 comes with an 11th-gen Intel CPU. Battery life up a touch to 13.5 hours under normal usage',\n",
              "  'NEGATIVE',\n",
              "  0.9706153273582458,\n",
              "  'https://finance.yahoo.com/news/microsofts-surface-laptop-go-2-offers-more-speed-and-storage-capacity-130028787.html'],\n",
              " ['MSFT',\n",
              "  'Recent pullback in price is a significant buying opportunity.',\n",
              "  'POSITIVE',\n",
              "  0.9970439076423645,\n",
              "  'https://finance.yahoo.com/news/heres-why-analyst-remained-bullish-182226629.html'],\n",
              " ['MSFT',\n",
              "  'Tech giant is latest U.S. company to warn of a stronger dollar.',\n",
              "  'NEGATIVE',\n",
              "  0.9806005358695984,\n",
              "  'https://ca.finance.yahoo.com/news/microsoft-lowers-revenue-profit-forecasts-131435503.html'],\n",
              " ['MSFT',\n",
              "  'Company cites need to realign staffing priorities. Tech firms have been slowing or freezing hiring in recent months',\n",
              "  'NEGATIVE',\n",
              "  0.9971606731414795,\n",
              "  'https://finance.yahoo.com/news/microsoft-slow-hiring-windows-office-153055705.html'],\n",
              " ['MSFT',\n",
              "  'Security firm Proofpoint says Chinese hackers are exploiting the flaw.',\n",
              "  'NEGATIVE',\n",
              "  0.9979946613311768,\n",
              "  'https://finance.yahoo.com/news/china-backed-hackers-exploiting-unpatched-111004168.html'],\n",
              " ['MSFT',\n",
              "  'Companies join forces to help accelerate transition to net zero. Co-development of innovative solutions to help businesses reduce carbon emissions',\n",
              "  'POSITIVE',\n",
              "  0.9985938668251038,\n",
              "  'https://finance.yahoo.com/news/accenture-microsoft-avanade-expand-partnership-115900867.html'],\n",
              " ['MSFT',\n",
              "  'Tech giant cuts fourth-quarter profit and revenue forecast. Tesla CEO calls factory workers demanding schedules',\n",
              "  'NEGATIVE',\n",
              "  0.9985505938529968,\n",
              "  'https://finance.yahoo.com/news/microsoft-lowers-revenue-profit-forecasts-131435503.html'],\n",
              " ['MSFT',\n",
              "  'We are aware of the issue and are working to resolve it.',\n",
              "  'POSITIVE',\n",
              "  0.9979088306427002,\n",
              "  'https://hk.finance.yahoo.com/news/%25E7%25BE%258E%25E8%2582%25A1%25E5%2586%258D%25E6%259A%25B4%25E6%258C%25AB-%25E5%25BE%25AE%25E8%25BB%259F%25E8%2582%25A1%25E7%25A5%25A8%25E6%2598%25AF%25E5%25BC%25B1%25E5%25B8%2582%25E7%259A%2584%25E5%25A5%25BD%25E9%2581%25B8%25E6%2593%2587%25EF%25BC%259F-153645326.html']]"
            ]
          },
          "metadata": {},
          "execution_count": 141
        }
      ],
      "source": [
        "final_output = create_output_array(summaries, scores, cleaned_urls)\n",
        "final_output"
      ]
    },
    {
      "cell_type": "code",
      "execution_count": 142,
      "metadata": {
        "id": "4WSrz3qZVl-Z"
      },
      "outputs": [],
      "source": [
        "final_output.insert(0, ['Ticker', 'Summary', 'Label', 'Confidence', 'URL'])"
      ]
    },
    {
      "cell_type": "code",
      "execution_count": 143,
      "metadata": {
        "collapsed": true,
        "id": "LccvgQClVl-Z",
        "outputId": "21bff565-e277-4113-84ff-19976416e2bd",
        "colab": {
          "base_uri": "https://localhost:8080/"
        }
      },
      "outputs": [
        {
          "output_type": "execute_result",
          "data": {
            "text/plain": [
              "[['Ticker', 'Summary', 'Label', 'Confidence', 'URL'],\n",
              " ['MSFT',\n",
              "  'Surface Laptop Go 2 gets faster performance, replaceable components. Smaller, lighter than 2020’s Surface Go',\n",
              "  'NEGATIVE',\n",
              "  0.6890648603439331,\n",
              "  'https://ca.finance.yahoo.com/news/microsoft-launches-surface-laptop-go-2-599-130049287.html'],\n",
              " ['MSFT',\n",
              "  'Software-as-service () solution available on the Microsoft Azure. P&C insurance companies turn to Duck Creek to optimize end-to-end insurance lifecycle',\n",
              "  'NEGATIVE',\n",
              "  0.7326964735984802,\n",
              "  'https://finance.yahoo.com/news/duck-creek-technologies-joins-microsoft-123000047.html'],\n",
              " ['MSFT',\n",
              "  'New Surface Laptop Go 2 comes with an 11th-gen Intel CPU. Battery life up a touch to 13.5 hours under normal usage',\n",
              "  'NEGATIVE',\n",
              "  0.9706153273582458,\n",
              "  'https://finance.yahoo.com/news/microsofts-surface-laptop-go-2-offers-more-speed-and-storage-capacity-130028787.html'],\n",
              " ['MSFT',\n",
              "  'Recent pullback in price is a significant buying opportunity.',\n",
              "  'POSITIVE',\n",
              "  0.9970439076423645,\n",
              "  'https://finance.yahoo.com/news/heres-why-analyst-remained-bullish-182226629.html'],\n",
              " ['MSFT',\n",
              "  'Tech giant is latest U.S. company to warn of a stronger dollar.',\n",
              "  'NEGATIVE',\n",
              "  0.9806005358695984,\n",
              "  'https://ca.finance.yahoo.com/news/microsoft-lowers-revenue-profit-forecasts-131435503.html'],\n",
              " ['MSFT',\n",
              "  'Company cites need to realign staffing priorities. Tech firms have been slowing or freezing hiring in recent months',\n",
              "  'NEGATIVE',\n",
              "  0.9971606731414795,\n",
              "  'https://finance.yahoo.com/news/microsoft-slow-hiring-windows-office-153055705.html'],\n",
              " ['MSFT',\n",
              "  'Security firm Proofpoint says Chinese hackers are exploiting the flaw.',\n",
              "  'NEGATIVE',\n",
              "  0.9979946613311768,\n",
              "  'https://finance.yahoo.com/news/china-backed-hackers-exploiting-unpatched-111004168.html'],\n",
              " ['MSFT',\n",
              "  'Companies join forces to help accelerate transition to net zero. Co-development of innovative solutions to help businesses reduce carbon emissions',\n",
              "  'POSITIVE',\n",
              "  0.9985938668251038,\n",
              "  'https://finance.yahoo.com/news/accenture-microsoft-avanade-expand-partnership-115900867.html'],\n",
              " ['MSFT',\n",
              "  'Tech giant cuts fourth-quarter profit and revenue forecast. Tesla CEO calls factory workers demanding schedules',\n",
              "  'NEGATIVE',\n",
              "  0.9985505938529968,\n",
              "  'https://finance.yahoo.com/news/microsoft-lowers-revenue-profit-forecasts-131435503.html'],\n",
              " ['MSFT',\n",
              "  'We are aware of the issue and are working to resolve it.',\n",
              "  'POSITIVE',\n",
              "  0.9979088306427002,\n",
              "  'https://hk.finance.yahoo.com/news/%25E7%25BE%258E%25E8%2582%25A1%25E5%2586%258D%25E6%259A%25B4%25E6%258C%25AB-%25E5%25BE%25AE%25E8%25BB%259F%25E8%2582%25A1%25E7%25A5%25A8%25E6%2598%25AF%25E5%25BC%25B1%25E5%25B8%2582%25E7%259A%2584%25E5%25A5%25BD%25E9%2581%25B8%25E6%2593%2587%25EF%25BC%259F-153645326.html']]"
            ]
          },
          "metadata": {},
          "execution_count": 143
        }
      ],
      "source": [
        "final_output"
      ]
    },
    {
      "cell_type": "code",
      "execution_count": 144,
      "metadata": {
        "id": "DZocWsfDVl-Z"
      },
      "outputs": [],
      "source": [
        "import csv\n",
        "with open('assetsummaries.csv', mode='w', newline='') as f:\n",
        "    csv_writer = csv.writer(f, delimiter=',', quotechar='\"', quoting=csv.QUOTE_MINIMAL)\n",
        "    csv_writer.writerows(final_output)"
      ]
    }
  ],
  "metadata": {
    "kernelspec": {
      "display_name": "Python 3",
      "language": "python",
      "name": "python3"
    },
    "language_info": {
      "codemirror_mode": {
        "name": "ipython",
        "version": 3
      },
      "file_extension": ".py",
      "mimetype": "text/x-python",
      "name": "python",
      "nbconvert_exporter": "python",
      "pygments_lexer": "ipython3",
      "version": "3.7.3"
    },
    "colab": {
      "name": "Automate Stocks and Crypto Research.ipynb",
      "provenance": [],
      "include_colab_link": true
    }
  },
  "nbformat": 4,
  "nbformat_minor": 0
}